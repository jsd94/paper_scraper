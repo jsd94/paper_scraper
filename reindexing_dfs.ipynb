{
 "cells": [
  {
   "cell_type": "code",
   "execution_count": 3,
   "id": "f8935896",
   "metadata": {},
   "outputs": [],
   "source": [
    "from classes import paper\n",
    "import textproc\n",
    "import os\n",
    "import pandas as pd\n",
    "import numpy as np\n",
    "from yaml import load, dump\n",
    "try:\n",
    "    from yaml import CLoader as Loader, CDumper as Dumper\n",
    "except ImportError:\n",
    "    from yaml import Loader, Dumper"
   ]
  },
  {
   "cell_type": "code",
   "execution_count": 3,
   "id": "15bb6d4e",
   "metadata": {},
   "outputs": [],
   "source": [
    "directory = '/home/jsd/paper_scraper/paper_yamls_plus_datasets/'\n",
    "os.chdir(directory)\n",
    "papers = []\n",
    "for a in sorted(os.listdir(directory)):\n",
    "    with open(a,'r') as infile:\n",
    "        papers.append(load(infile,Loader=Loader))"
   ]
  },
  {
   "cell_type": "code",
   "execution_count": 161,
   "id": "02f869d9",
   "metadata": {},
   "outputs": [],
   "source": [
    "def cols_to_multiindex(df,cols,toplevel=None,toplevelname=None):\n",
    "    if toplevel:\n",
    "        arr = [\n",
    "            list(df[col]) for col in cols\n",
    "        ]\n",
    "        top = [toplevel]*len(arr[0])\n",
    "        arr = [top,*arr]\n",
    "        names = [toplevelname]+cols\n",
    "    else:\n",
    "        arr = [\n",
    "            list(df[col]) for col in cols\n",
    "        ]\n",
    "        names = cols\n",
    "    tuples = list(zip(*arr))\n",
    "    index = pd.MultiIndex.from_tuples(tuples,names=names)\n",
    "    df2 =  df.reindex(index)\n",
    "    for i in range(len(df.index)):\n",
    "        df2.iloc[i,:] = df.iloc[i,:]\n",
    "    for j in cols:\n",
    "        df2.drop(j,axis=1,inplace=True)\n",
    "    return df2\n",
    "\n",
    "# def make_strs_unique(strs_list,separator=None,tags='abcdefghijklmnopqrstuvwxyz'):\n",
    "#     if not separator:\n",
    "#         separator = ''\n",
    "#     out = []\n",
    "#     tag_len = 0\n",
    "#     tag_dct = dict(zip(tags,range(len(tags))))\n",
    "# #     return tag_dct\n",
    "#     for string in strs_list:\n",
    "#         last_out_match = None\n",
    "#         if string not in out:\n",
    "#             out.append(string)\n",
    "#         else:\n",
    "#             out_cp = out.copy()\n",
    "#             out_cp.reverse()\n",
    "#             for a in out_cp:\n",
    "#                 if a.find(string) >-1:\n",
    "#                     last_out_match = a\n",
    "#                     break\n",
    "#             if last_out_match == string:\n",
    "#                 out.append(string+separator+tags[0])\n",
    "#             else:\n",
    "#                 current_tag = last_out_match.split(string)[-1]\n",
    "# #                 if separator == '':\n",
    "# #                     current_tag = last_out_match.split(string)[-1]\n",
    "# #                 else:\n",
    "# #                     current_tag = last_out_match.split(separator)[-1]\n",
    "# #                 return current_tag[:-1]\n",
    "# #                 tag_len = len(current_tag)\n",
    "#                 tag_fixed_part = current_tag[:-1]\n",
    "#                 tag_last_char = current_tag[-1]\n",
    "#                 tag_last_ind = tag_dct[tag_last_char]\n",
    "#                 next_tag_last_char = tags[(tag_last_ind+1)%len(tags)]\n",
    "#                 out.append(string+tag_fixed_part+next_tag_last_char)\n",
    "# #                 return next_tag_last_char\n",
    "# #                 if tag_last_char != tags[-1]:\n",
    "# #                     out.append(string+separator+current_tag[:-1]+tags[tag_last_ind+1])\n",
    "# #                 else:\n",
    "# #                     out.append(string+separator+current_tag[0:tag_len]+(tags[tag_len%len(tags)]*(tag_len+1))+tags[0])\n",
    "# # #                     return string+separator+current_tag[0:tag_len]+tags[0]\n",
    "# #                     tag_len+=1\n",
    "# #                 return out\n",
    "#     return out"
   ]
  },
  {
   "cell_type": "code",
   "execution_count": 2,
   "id": "f88329e4",
   "metadata": {},
   "outputs": [],
   "source": [
    "# a = 'Chen 2017'\n",
    "# b = [a]\n",
    "# b[0]+= 'abc'[0]\n",
    "# b\n",
    "\n",
    "# "
   ]
  },
  {
   "cell_type": "code",
   "execution_count": 3,
   "id": "8b1e2d86",
   "metadata": {},
   "outputs": [],
   "source": [
    "# # for a in papers:\n",
    "# #     a.phase_sep_df = cols_to_multiindex(a.phase_sep_df,['product name','method type'],toplevel=a.short_id,toplevelname='paper')\n",
    "\n",
    "# ids = []\n",
    "# alphabet = 'abcdefghijklmnopqrstuvwxyz'\n",
    "# for a in papers:\n",
    "#     a_id = a.short_id\n",
    "#     for i in alphabet:\n",
    "#         temp = a_id\n",
    "#         if temp in ids:\n",
    "#             temp += i\n",
    "#         if temp not in ids:\n",
    "#             a_id = temp\n",
    "#             break\n",
    "#     ids.append(a_id)\n",
    "#     df = a.phase_sep_df\n",
    "#     arr = [a_id]*len(df)\n",
    "#     a.phase_sep_df = a.phase_sep_df.set_index(arr)"
   ]
  },
  {
   "cell_type": "code",
   "execution_count": 12,
   "id": "71ee6fb8",
   "metadata": {},
   "outputs": [],
   "source": [
    "current_paper = papers[29]\n",
    "current_paper.phase_sep_df.to_csv('~/Desktop/'+current_paper.short_id+'.csv')"
   ]
  },
  {
   "cell_type": "code",
   "execution_count": 21,
   "id": "080859a3",
   "metadata": {},
   "outputs": [],
   "source": [
    "newdf = pd.concat([a.phase_sep_df for a in papers])"
   ]
  },
  {
   "cell_type": "code",
   "execution_count": 4,
   "id": "79a50b04",
   "metadata": {},
   "outputs": [],
   "source": [
    "import re\n",
    "def standardize_vals(df,collapse_diffs=['case','typos','subsets']):\n",
    "    for col in df.columns:\n",
    "        std_vals = []\n",
    "        lst = [val for val in df[col]]\n",
    "        for string in lst:\n",
    "            if not isinstance(string,str):\n",
    "                continue\n",
    "            if string not in std_vals:\n",
    "                std_vals.append(string)\n",
    "            else:\n",
    "                continue\n",
    "            \n",
    "            \n",
    "            if 'case' in collapse_diffs:\n",
    "                string = string.lower()\n",
    "                newlst = []\n",
    "                for a in lst:\n",
    "                    if isinstance(a,str):\n",
    "                        newlst.append(a.lower())\n",
    "                    else:\n",
    "                        newlst.append(a)\n",
    "                lst = newlst\n",
    "            if 'subsets' in collapse_diffs:\n",
    "                string = re.split(r':|\\(',string)[0].strip()\n",
    "                newlst = []\n",
    "                for a in lst:\n",
    "                    if isinstance(a,str):\n",
    "                        newlst.append(re.split(r':|\\(',a)[0].strip())\n",
    "                    else:\n",
    "                        newlst.append(a)\n",
    "                lst = newlst\n",
    "#             if 'typos' in collapse_diffs:\n",
    "\n",
    "            matches = [0]*len(lst)\n",
    "            for i in range(len(lst)):\n",
    "                if lst[i] == string:\n",
    "                    matches[i] = 1\n",
    "            for j in range(len(lst)):\n",
    "                if matches[j] == 1:\n",
    "                    lst[j] = string\n",
    "        df.loc[:,col] = lst\n",
    "            \n",
    "    return df"
   ]
  },
  {
   "cell_type": "code",
   "execution_count": 94,
   "id": "e603a1d3",
   "metadata": {},
   "outputs": [],
   "source": [
    "from matplotlib import pyplot as plt\n",
    "df = pd.read_csv('test.csv',header=[0])\n",
    "df.columns.drop(df.filter(regex='.\\.\\d|Unnamed'))\n",
    "df2 = df.loc[1:,df.columns.drop(df.filter(regex='IDs|.\\.\\d|Unnamed'))]\n",
    "df2\n",
    "df2= df2.replace(to_replace=r'^NR.*',value=np.nan,regex=True)\n",
    "df2\n",
    "df2.loc[:,df2.columns.drop(df2.filter(regex=r'(?i)ids|method|product|host|context|recipe|stage|model|phase'))] = df2.loc[:,df2.columns.drop(df2.filter(regex='(?i)ids|method|product|host|context|recipe|stage|model|phase'))].astype(float)\n",
    "cols = list(df2.columns[0:10])+list(df2.columns[-4:-1])\n",
    "cols.remove('Method description')\n",
    "cols.remove('Recipe')\n",
    "df2.loc[:,cols] = standardize_vals(df2.loc[:,cols],collapse_diffs=['subsets','case'])\n",
    "# df2.loc[:,'Optimization method'] = df2.loc[:,'Optimization method'].replace({'ofat':1,'doe':2,-1:0})\n",
    "df2.loc[:,'Theoretical model'] = df2.loc[:,'Theoretical model'].replace({'yes':1,np.nan:0})\n",
    "df2.loc[df2['Host type']=='micobre','Host type'] = 'microbe'"
   ]
  },
  {
   "cell_type": "code",
   "execution_count": 215,
   "id": "dec95515",
   "metadata": {},
   "outputs": [],
   "source": []
  },
  {
   "cell_type": "code",
   "execution_count": 156,
   "id": "9ad990a1",
   "metadata": {},
   "outputs": [
    {
     "data": {
      "text/plain": [
       "HCP lrv    AxesSubplot(0.125,0.125;0.775x0.755)\n",
       "dtype: object"
      ]
     },
     "execution_count": 156,
     "metadata": {},
     "output_type": "execute_result"
    },
    {
     "data": {
      "image/png": "[encoded data removed]",
      "text/plain": [
       "<Figure size 432x288 with 1 Axes>"
      ]
     },
     "metadata": {
      "needs_background": "light"
     },
     "output_type": "display_data"
    }
   ],
   "source": [
    "def __box_scatter(df,by,val):\n",
    "    lst = []\n",
    "    for i in range(len(val)):\n",
    "        try:\n",
    "            firstval = df.loc[:,by[i]].iloc[0]\n",
    "        except KeyError:\n",
    "            firstval = df.loc[:,by[i]].iloc[0][0]\n",
    "        if isinstance(firstval,str):\n",
    "            lst.append(\"(df_cp['{}']=='{}')\".format(by[i],val[i]))\n",
    "        else:\n",
    "            lst.append(\"(df_cp['{}']=={})\".format(by[i],val[i]))\n",
    "    string = '&'.join(lst)\n",
    "    return string\n",
    "\n",
    "def box_scatter(df:pd.DataFrame,column:str,by:list,dropnas=True,jitter=0,marker='o',mec='k',mfc='k',ls='',alpha=0.5,markersize=5,**kwargs):\n",
    "    if dropnas:\n",
    "        df_cp = df.dropna(how='all',axis=0,subset=column)\n",
    "        df_cp = df_cp.dropna(how='any',axis=0,subset=by)\n",
    "    else:\n",
    "        df_cp = df\n",
    "    if not isinstance(by,list):\n",
    "        by = [by]\n",
    "    plot = df_cp.plot(kind='box',column=column,by=by,showfliers=False)\n",
    "    vals = sorted(textproc.unique(df_cp.loc[:,by].values))\n",
    "    for i in range(len(vals)):\n",
    "        val = vals[i]\n",
    "        y = df_cp.loc[eval(__box_scatter(df_cp,by,val)),column]\n",
    "        x = [i+1]*len(y)\n",
    "        x = np.random.uniform(low=-jitter,high=jitter,size=len(y))+np.array([i+1]*len(y))\n",
    "        plt.plot(x,y,marker=marker,mec=mec,mfc=mfc,markersize=markersize,ls=ls,alpha=alpha,**kwargs)\n",
    "    return plot\n",
    "\n",
    "# df2 = df2.fillna({'Optimization method':'None'})\n",
    "# sum([np.isnan(a) for a in df2['Optimization method'].values if not isinstance(a,str)])\n",
    "# df2['Optimization method'].values\n",
    "# type(df2.loc[:,'Optimization method'].iloc[0])\n",
    "box_scatter(df2,'HCP lrv',['Host type'],dropnas=True,jitter=0.05)"
   ]
  },
  {
   "cell_type": "code",
   "execution_count": 88,
   "id": "7c168cb3",
   "metadata": {},
   "outputs": [
    {
     "data": {
      "text/plain": [
       "<AxesSubplot:xlabel='Yield (%)', ylabel='HCP lrv'>"
      ]
     },
     "execution_count": 88,
     "metadata": {},
     "output_type": "execute_result"
    },
    {
     "data": {
      "image/png": "[encoded data removed]",
      "text/plain": [
       "<Figure size 432x288 with 1 Axes>"
      ]
     },
     "metadata": {
      "needs_background": "light"
     },
     "output_type": "display_data"
    }
   ],
   "source": [
    "df2.plot(kind='scatter',x='Yield (%)',y='HCP lrv')"
   ]
  },
  {
   "cell_type": "code",
   "execution_count": null,
   "id": "5ec25224",
   "metadata": {},
   "outputs": [],
   "source": []
  },
  {
   "cell_type": "code",
   "execution_count": 120,
   "id": "762a439d",
   "metadata": {},
   "outputs": [],
   "source": []
  }
 ],
 "metadata": {
  "kernelspec": {
   "display_name": "ipykernel PDFScrape",
   "language": "python",
   "name": "pdfscrape"
  },
  "language_info": {
   "codemirror_mode": {
    "name": "ipython",
    "version": 3
   },
   "file_extension": ".py",
   "mimetype": "text/x-python",
   "name": "python",
   "nbconvert_exporter": "python",
   "pygments_lexer": "ipython3",
   "version": "3.8.12"
  }
 },
 "nbformat": 4,
 "nbformat_minor": 5
}
