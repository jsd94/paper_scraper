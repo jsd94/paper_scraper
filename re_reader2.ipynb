{
 "cells": [
  {
   "cell_type": "code",
   "execution_count": 2,
   "id": "c2055be6",
   "metadata": {},
   "outputs": [],
   "source": [
    "from classes import paper,section\n",
    "from misc import null\n",
    "from section_instances import abstract,introduction,methods,results\n",
    "import os\n",
    "from yaml import load, dump\n",
    "try:\n",
    "    from yaml import CLoader as Loader, CDumper as Dumper\n",
    "except ImportError:\n",
    "    from yaml import Loader, Dumper"
   ]
  },
  {
   "cell_type": "code",
   "execution_count": null,
   "id": "a07c718a",
   "metadata": {},
   "outputs": [],
   "source": [
    "# def remove_newlines(text):\n",
    "#     text = text.replace('\\n','')\n",
    "#     return text\n",
    "\n",
    "# def remove_after(text,start_pattern):\n",
    "#     start = start_pattern.search(text).start()\n",
    "#     text = text[0:start]\n",
    "#     return text\n",
    "\n",
    "\n",
    "    \n",
    "\n",
    "# def remove_whitespace(text):\n",
    "#     text = text.replace('\\n','')"
   ]
  },
  {
   "cell_type": "code",
   "execution_count": 3,
   "id": "3364300e",
   "metadata": {},
   "outputs": [],
   "source": [
    "# try:\n",
    "#     os.mkdir('/home/jsd/paper_scraper/paper_yamls')\n",
    "# except:\n",
    "#     1\n",
    "# os.chdir('/home/jsd/paper_scraper/paper_yamls')\n",
    "# for a in papers:\n",
    "#     with open(a.citation+'.yaml','w') as outfile:\n",
    "#         dump(a,outfile)"
   ]
  },
  {
   "cell_type": "code",
   "execution_count": 3,
   "id": "fade30d6",
   "metadata": {},
   "outputs": [],
   "source": [
    "os.chdir('/home/jsd/paper_scraper/paper_yamls')\n",
    "papers = []\n",
    "for a in sorted(os.listdir()):\n",
    "    with open(a,'r') as infile:\n",
    "        paper = load(infile,Loader=Loader)\n",
    "        papers.append(paper)"
   ]
  },
  {
   "cell_type": "code",
   "execution_count": 27,
   "id": "2305deaa",
   "metadata": {},
   "outputs": [],
   "source": [
    "i=0\n",
    "fails = []\n",
    "for paper in papers:\n",
    "    try:\n",
    "        paper.get_section(results)\n",
    "#         print(i,'\\n',paper.results,'\\n',paper.results_start_match,'\\n',paper.results_end_match,'\\n\\n\\n')\n",
    "        i+=1\n",
    "    except:\n",
    "        if paper.pass_qa:\n",
    "            fails.append(i)\n",
    "        i+=1\n",
    "        continue\n",
    "\n",
    "# fails"
   ]
  },
  {
   "cell_type": "code",
   "execution_count": 28,
   "id": "08e7ea59",
   "metadata": {},
   "outputs": [],
   "source": [
    "# text = papers[246].text\n",
    "# print(text)\n",
    "# section = results\n",
    "\n",
    "# for i in range(len(section.start_patterns)):\n",
    "#     try:\n",
    "#         text = section.preprocess_steps[i](text)\n",
    "#         start_match = section.start_patterns[i].search(text)\n",
    "#         print(start_match)\n",
    "#         start = start_match.start()\n",
    "#         print(start)\n",
    "#         start_groups = ''.join([a for a in start_match.groups()])\n",
    "#         print(start_groups)\n",
    "#         end_match = section.end_patterns[i].search(text[start:])\n",
    "#         print(end_match.groups())\n",
    "#         end_groups = ''.join([a for a in end_match.groups() if a])\n",
    "#         print(end_groups)\n",
    "#         end = end_match.start()+start\n",
    "#         break\n",
    "#     except:\n",
    "#         print(i)"
   ]
  },
  {
   "cell_type": "code",
   "execution_count": 21,
   "id": "ee955507",
   "metadata": {},
   "outputs": [],
   "source": [
    "# paper = papers[99]\n",
    "# print('\\n',paper.results,'\\n',paper.results_start_match,'\\n',paper.results_end_match,'\\n\\n\\n')"
   ]
  }
 ],
 "metadata": {
  "kernelspec": {
   "display_name": "ipykernel PDFScrape",
   "language": "python",
   "name": "pdfscrape"
  },
  "language_info": {
   "codemirror_mode": {
    "name": "ipython",
    "version": 3
   },
   "file_extension": ".py",
   "mimetype": "text/x-python",
   "name": "python",
   "nbconvert_exporter": "python",
   "pygments_lexer": "ipython3",
   "version": "3.8.12"
  }
 },
 "nbformat": 4,
 "nbformat_minor": 5
}
