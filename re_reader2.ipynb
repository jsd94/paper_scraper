{
 "cells": [
  {
   "cell_type": "code",
   "execution_count": 6,
   "id": "c2055be6",
   "metadata": {},
   "outputs": [],
   "source": [
    "from classes import paper,section\n",
    "from misc import null\n",
    "from section_instances import abstract,introduction\n",
    "import os\n",
    "from yaml import load, dump\n",
    "try:\n",
    "    from yaml import CLoader as Loader, CDumper as Dumper\n",
    "except ImportError:\n",
    "    from yaml import Loader, Dumper"
   ]
  },
  {
   "cell_type": "code",
   "execution_count": null,
   "id": "a07c718a",
   "metadata": {},
   "outputs": [],
   "source": [
    "# def remove_newlines(text):\n",
    "#     text = text.replace('\\n','')\n",
    "#     return text\n",
    "\n",
    "# def remove_after(text,start_pattern):\n",
    "#     start = start_pattern.search(text).start()\n",
    "#     text = text[0:start]\n",
    "#     return text\n",
    "\n",
    "\n",
    "    \n",
    "\n",
    "# def remove_whitespace(text):\n",
    "#     text = text.replace('\\n','')"
   ]
  },
  {
   "cell_type": "code",
   "execution_count": 7,
   "id": "df2d796f",
   "metadata": {},
   "outputs": [],
   "source": [
    "# abstract = section(\n",
    "#     name = 'abstract',\n",
    "#     start_pattern=r'\\n.*(Abstract\\n|Summary\\n|Abstract:|Summary:|[Aa]\\s*[Bb]\\s*[Ss]\\s*[Tt]\\s*[Rr]\\s*[Aa]\\s*)',\n",
    "#     end_pattern=r'\\n.*(Key\\s?words|Introduction)(\\b.*\\b|\\s){0,3}\\n'\n",
    "# )\n",
    "\n",
    "# abstract.add_layer(r'(?i)abstract',r'(?i)(key\\s?words|introduction)',null)\n",
    "# abstract.add_layer(r'',r'(?i)(key\\s?words|introduction)',null)\n",
    "# abstract.add_layer(r'',r'\\b\\d{4}\\b',null)"
   ]
  },
  {
   "cell_type": "code",
   "execution_count": null,
   "id": "c4a0a70a",
   "metadata": {},
   "outputs": [],
   "source": [
    "# abstract_start = re.compile(r'\\n.*(Abstract\\n|Summary\\n|Abstract:|Summary:|[Aa]\\s*[Bb]\\s*[Ss]\\s*[Tt]\\s*[Rr]\\s*[Aa]\\s*)')\n",
    "# abstract_end = re.compile(r'\\n.*(Keywords|Introduction)(\\b.*\\b|\\s){0,3}\\n')\n",
    "\n",
    "# introduction = section(\n",
    "#     start_pattern=r'\\n([\\d][.][\\s].*)?(Introduction)(\\b.*\\b|\\s){0,3}\\n',\n",
    "#     end_pattern=r'\\n([\\d][.][\\s].*)?(Results?|Materials|Methods)(\\b.*\\b|\\s){0,3}\\n'\n",
    "# )\n",
    "\n",
    "# # intro_start = re.compile(r'\\n([\\d][.][\\s].*)?(Introduction)(\\b.*\\b|\\s){0,3}\\n')\n",
    "# # intro_end = re.compile(r'\\n([\\d][.][\\s].*)?(Results?|Materials|Methods)(\\b.*\\b|\\s){0,3}\\n')\n",
    "\n",
    "# results = section(\n",
    "#     start_pattern=r'\\n([\\d][.][\\s].*)?Results?(\\b.*\\b|\\s){0,3}\\n',\n",
    "#     end_pattern=r'\\n([\\d][.][\\s]*)?(Discussion|Conclusion|Materials|Methods|Acknowledg[e]?ments|Experimental)(\\b.*\\b|\\s){0,3}\\n'\n",
    "# )\n",
    "\n",
    "# # results_start = re.compile(r'\\n([\\d][.][\\s].*)?Results?(\\b.*\\b|\\s){0,3}\\n')\n",
    "# # results_end = re.compile(r'\\n([\\d][.][\\s]*)?(Discussion|Conclusion|Materials|Methods|Acknowledg[e]?ments|Experimental)(\\b.*\\b|\\s){0,3}\\n')\n",
    "\n",
    "# methods = section(\n",
    "#     start_pattern=r'\\n([\\d][.][\\s].*)?(Methods|Materials|Experimental)(\\b.*\\b|\\s){0,3}\\n',\n",
    "#     end_pattern=r'\\n([\\d][.][\\s].*)?(Results|Discussion|Acknowledg[e]?ments|References|Bibliography|Citations|\\b.*\\b [Cc]ited)(\\b.*\\b|\\s){0,3}\\n'\n",
    "# )\n",
    "\n",
    "# # methods_start = re.compile(r'\\n([\\d][.][\\s].*)?(Methods|Materials|Experimental)(\\b.*\\b|\\s){0,3}\\n')\n",
    "# # methods_end = re.compile(r'\\n([\\d][.][\\s].*)?(Results|Discussion|Acknowledg[e]?ments|References|Bibliography|Citations|\\b.*\\b [Cc]ited)(\\b.*\\b|\\s){0,3}\\n')\n",
    "\n",
    "# references = section(\n",
    "#     start_pattern=r'\\n.*(References|Bibliography|Citations|\\b.*\\b [Cc]ited)(\\b.*\\b|\\s){0,3}\\n',\n",
    "#     end_pattern=None\n",
    "# )\n",
    "\n",
    "# references_start = re.compile(r'\\n.*(References|Bibliography|Citations|\\b.*\\b [Cc]ited)(\\b.*\\b|\\s){0,3}\\n')"
   ]
  },
  {
   "cell_type": "code",
   "execution_count": 2,
   "id": "2bba9d73",
   "metadata": {},
   "outputs": [
    {
     "name": "stderr",
     "output_type": "stream",
     "text": [
      "Deprecation: 'getText' removed from class 'Page' after v1.19 - use 'get_text'.\n"
     ]
    }
   ],
   "source": [
    "# directory = '/home/jsd/Phase Separation Papers/'\n",
    "\n",
    "# paper_paths = sorted([directory+a for a in os.listdir(directory) if a.endswith('.pdf')])\n",
    "\n",
    "# # paper_paths[0]\n",
    "# papers = [paper(a) for a in paper_paths[0:3]]"
   ]
  },
  {
   "cell_type": "code",
   "execution_count": 3,
   "id": "3364300e",
   "metadata": {},
   "outputs": [],
   "source": [
    "# try:\n",
    "#     os.mkdir('/home/jsd/paper_scraper/paper_yamls')\n",
    "# except:\n",
    "#     1\n",
    "# os.chdir('/home/jsd/paper_scraper/paper_yamls')\n",
    "# for a in papers:\n",
    "#     with open(a.citation+'.yaml','w') as outfile:\n",
    "#         dump(a,outfile)"
   ]
  },
  {
   "cell_type": "code",
   "execution_count": 2,
   "id": "fade30d6",
   "metadata": {},
   "outputs": [],
   "source": [
    "os.chdir('/home/jsd/paper_scraper/paper_yamls')\n",
    "papers = []\n",
    "for a in sorted(os.listdir()):\n",
    "    with open(a,'r') as infile:\n",
    "        paper = load(infile,Loader=Loader)\n",
    "        papers.append(paper)"
   ]
  },
  {
   "cell_type": "code",
   "execution_count": 5,
   "id": "ee955507",
   "metadata": {},
   "outputs": [],
   "source": [
    "# import re\n",
    "# papers[116].text\n",
    "# re.search(introduction.start_patterns[0],papers[16].text)\n",
    "# re.search(introduction.end_patterns[0],papers[16].text)\n",
    "\n",
    "# papers[16].get_section(introduction)\n",
    "# paper = papers[70]\n",
    "# print('\\n',paper.introduction,'\\n',paper.introduction_start_match,'\\n',paper.introduction_end_match,'\\n\\n\\n')"
   ]
  },
  {
   "cell_type": "code",
   "execution_count": 3,
   "id": "08e7ea59",
   "metadata": {},
   "outputs": [],
   "source": [
    "# text = papers[70].text\n",
    "# print(text)\n",
    "# section = introduction\n",
    "\n",
    "# for i in range(len(section.start_patterns)):\n",
    "#     try:\n",
    "#         text = section.preprocess_steps[i](text)\n",
    "#         start_match = section.start_patterns[i].search(text)\n",
    "#         print(start_match)\n",
    "#         start = start_match.start()\n",
    "#         print(start)\n",
    "#         start_groups = ''.join([a for a in start_match.groups()])\n",
    "#         print(start_groups)\n",
    "#         end_match = section.end_patterns[i].search(text[start:])\n",
    "#         print(end_match.groups())\n",
    "#         end_groups = ''.join([a for a in end_match.groups() if a])\n",
    "# #         print(end_groups)\n",
    "#         end = end_match.start()+start\n",
    "#         break\n",
    "#     except:\n",
    "#         print(i)\n",
    "        \n"
   ]
  },
  {
   "cell_type": "code",
   "execution_count": 4,
   "id": "2305deaa",
   "metadata": {},
   "outputs": [],
   "source": [
    "\n",
    "# i=0\n",
    "# fails = []\n",
    "# for paper in papers:\n",
    "#     try:\n",
    "#         paper.get_section(introduction)\n",
    "#         print(i,'\\n',paper.introduction,'\\n',paper.introduction_start_match,'\\n',paper.introduction_end_match,'\\n\\n\\n')\n",
    "#         i+=1\n",
    "#     except:\n",
    "#         if paper.pass_qa:\n",
    "#             fails.append(i)\n",
    "#         i+=1\n",
    "#         continue\n",
    "\n",
    "# fails\n",
    "\n",
    "# papers[5].abstract\n",
    "# get_section(papers[5].text,abstract.start_pattern,abstract.end_pattern)\n",
    "# current_paper.get_section(abstract)\n",
    "# current_paper.abstract\n",
    "# current_paper.text\n",
    "# text = current_paper.text\n",
    "# start = abstract.start_pattern.search(text).start()\n",
    "# end = abstract.end_pattern.search(text[start:]).start()+start\n",
    "# section = text[start:end]\n",
    "# print(section)"
   ]
  }
 ],
 "metadata": {
  "kernelspec": {
   "display_name": "ipykernel PDFScrape",
   "language": "python",
   "name": "pdfscrape"
  },
  "language_info": {
   "codemirror_mode": {
    "name": "ipython",
    "version": 3
   },
   "file_extension": ".py",
   "mimetype": "text/x-python",
   "name": "python",
   "nbconvert_exporter": "python",
   "pygments_lexer": "ipython3",
   "version": "3.8.12"
  }
 },
 "nbformat": 4,
 "nbformat_minor": 5
}
