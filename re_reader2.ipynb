{
 "cells": [
  {
   "cell_type": "code",
   "execution_count": 414,
   "id": "c2055be6",
   "metadata": {},
   "outputs": [],
   "source": [
    "import fitz\n",
    "import re\n",
    "import os"
   ]
  },
  {
   "cell_type": "code",
   "execution_count": 415,
   "id": "c7fffb56",
   "metadata": {},
   "outputs": [],
   "source": [
    "def remove_newlines(text):\n",
    "    text = text.replace('\\n','')\n",
    "    return text\n",
    "\n",
    "def remove_after(text,start_pattern):\n",
    "    start = start_pattern.search(text).start()\n",
    "    text = text[0:start]\n",
    "    return text"
   ]
  },
  {
   "cell_type": "code",
   "execution_count": 416,
   "id": "4a7e9fc9",
   "metadata": {},
   "outputs": [],
   "source": [
    "class paper(object):\n",
    "    def __init__(self,path_to_pdf):\n",
    "        self.path = path_to_pdf\n",
    "        self.citation,self.short_id,self.year = self.get_paper_id()\n",
    "        self.text = self.get_text()\n",
    "    \n",
    "    def __repr__(self):\n",
    "        return 'A paper object for %s' %self.citation\n",
    "    \n",
    "    def get_paper_id(self):\n",
    "        path = self.path\n",
    "        filename = path.split('/')[-1]\n",
    "        citation = '.'.join(filename.split('.')[:-1])\n",
    "        year = re.search('\\d{4}',citation).group(0)\n",
    "        short_id = citation.split(' ')[0]+' '+year\n",
    "        return citation,short_id,int(year)\n",
    "    \n",
    "    def get_text(self):\n",
    "        text = ''\n",
    "        with fitz.open(self.path) as infile:\n",
    "            for page in infile:\n",
    "                text+= page.getText()\n",
    "        return text\n",
    "        \n",
    "    def get_section(self,section):\n",
    "        attr = section.name\n",
    "        start = section.start_pattern.search(self.text).start()\n",
    "        end = section.end_pattern.search(self.text[start:]).start()+start\n",
    "        text = self.text[start:end]\n",
    "        setattr(self,attr,text)"
   ]
  },
  {
   "cell_type": "code",
   "execution_count": 412,
   "id": "162e288a",
   "metadata": {},
   "outputs": [],
   "source": [
    "class section(object):\n",
    "    def __init__(self,name,start_pattern,end_pattern,preprocess_steps=None):\n",
    "        self.start_patterns = [re.compile(start_pattern)]\n",
    "        if end_pattern:\n",
    "            self.end_pattern = [re.compile(end_pattern)]\n",
    "        self.name = name\n",
    "        self.preprocess_steps = [None]\n",
    "    def __repr__(self):\n",
    "        return 'A section object for the %s'%self.name\n",
    "    \n",
    "    def add_layer(self,start_pattern,end_pattern,preprocess_step):\n",
    "        self.start_patterns =  self.start_patterns.append(start_pattern)\n",
    "        self.end_patterns = self.end_patterns.append(end_pattern)\n",
    "        self.preprocess_steps = self.preprocess_steps.append(preprocess_step)"
   ]
  },
  {
   "cell_type": "code",
   "execution_count": 413,
   "id": "df2d796f",
   "metadata": {},
   "outputs": [],
   "source": [
    "abstract = section(\n",
    "    name = 'abstract',\n",
    "    start_pattern=r'\\n.*(Abstract\\n|Summary\\n|Abstract:|Summary:|[Aa]\\s*[Bb]\\s*[Ss]\\s*[Tt]\\s*[Rr]\\s*[Aa]\\s*)',\n",
    "    end_pattern=r'\\n.*(Keywords|Introduction)(\\b.*\\b|\\s){0,3}\\n'\n",
    ")\n",
    "\n",
    "abstract.add_layer(r'',r'',)"
   ]
  },
  {
   "cell_type": "code",
   "execution_count": null,
   "id": "c4a0a70a",
   "metadata": {},
   "outputs": [],
   "source": [
    "# abstract_start = re.compile(r'\\n.*(Abstract\\n|Summary\\n|Abstract:|Summary:|[Aa]\\s*[Bb]\\s*[Ss]\\s*[Tt]\\s*[Rr]\\s*[Aa]\\s*)')\n",
    "# abstract_end = re.compile(r'\\n.*(Keywords|Introduction)(\\b.*\\b|\\s){0,3}\\n')\n",
    "\n",
    "# introduction = section(\n",
    "#     start_pattern=r'\\n([\\d][.][\\s].*)?(Introduction)(\\b.*\\b|\\s){0,3}\\n',\n",
    "#     end_pattern=r'\\n([\\d][.][\\s].*)?(Results?|Materials|Methods)(\\b.*\\b|\\s){0,3}\\n'\n",
    "# )\n",
    "\n",
    "# # intro_start = re.compile(r'\\n([\\d][.][\\s].*)?(Introduction)(\\b.*\\b|\\s){0,3}\\n')\n",
    "# # intro_end = re.compile(r'\\n([\\d][.][\\s].*)?(Results?|Materials|Methods)(\\b.*\\b|\\s){0,3}\\n')\n",
    "\n",
    "# results = section(\n",
    "#     start_pattern=r'\\n([\\d][.][\\s].*)?Results?(\\b.*\\b|\\s){0,3}\\n',\n",
    "#     end_pattern=r'\\n([\\d][.][\\s]*)?(Discussion|Conclusion|Materials|Methods|Acknowledg[e]?ments|Experimental)(\\b.*\\b|\\s){0,3}\\n'\n",
    "# )\n",
    "\n",
    "# # results_start = re.compile(r'\\n([\\d][.][\\s].*)?Results?(\\b.*\\b|\\s){0,3}\\n')\n",
    "# # results_end = re.compile(r'\\n([\\d][.][\\s]*)?(Discussion|Conclusion|Materials|Methods|Acknowledg[e]?ments|Experimental)(\\b.*\\b|\\s){0,3}\\n')\n",
    "\n",
    "# methods = section(\n",
    "#     start_pattern=r'\\n([\\d][.][\\s].*)?(Methods|Materials|Experimental)(\\b.*\\b|\\s){0,3}\\n',\n",
    "#     end_pattern=r'\\n([\\d][.][\\s].*)?(Results|Discussion|Acknowledg[e]?ments|References|Bibliography|Citations|\\b.*\\b [Cc]ited)(\\b.*\\b|\\s){0,3}\\n'\n",
    "# )\n",
    "\n",
    "# # methods_start = re.compile(r'\\n([\\d][.][\\s].*)?(Methods|Materials|Experimental)(\\b.*\\b|\\s){0,3}\\n')\n",
    "# # methods_end = re.compile(r'\\n([\\d][.][\\s].*)?(Results|Discussion|Acknowledg[e]?ments|References|Bibliography|Citations|\\b.*\\b [Cc]ited)(\\b.*\\b|\\s){0,3}\\n')\n",
    "\n",
    "# references = section(\n",
    "#     start_pattern=r'\\n.*(References|Bibliography|Citations|\\b.*\\b [Cc]ited)(\\b.*\\b|\\s){0,3}\\n',\n",
    "#     end_pattern=None\n",
    "# )\n",
    "\n",
    "# references_start = re.compile(r'\\n.*(References|Bibliography|Citations|\\b.*\\b [Cc]ited)(\\b.*\\b|\\s){0,3}\\n')"
   ]
  },
  {
   "cell_type": "code",
   "execution_count": 404,
   "id": "2bba9d73",
   "metadata": {},
   "outputs": [],
   "source": [
    "directory = '/home/jsd/Phase Separation Papers/'\n",
    "\n",
    "paper_paths = sorted([directory+a for a in os.listdir(directory) if a.endswith('.pdf')])\n",
    "\n",
    "papers = [paper(a) for a in paper_paths[0:3]]"
   ]
  },
  {
   "cell_type": "code",
   "execution_count": 408,
   "id": "2305deaa",
   "metadata": {},
   "outputs": [
    {
     "name": "stdout",
     "output_type": "stream",
     "text": [
      "\n",
      "Abstract\n",
      "A direct comparison of a chromatography and an aqueous two-phase system (ATPS) processes for the partial puriﬁcation of penicillin acylase\n",
      "(PA) produced by a recombinant strain of E. coli, was performed. An established chromatography process for the recovery of PA was selected\n",
      "as a model system and characterised for comparison with a developed ATPS prototype process. PEG-phosphate systems were selected for the\n",
      "recovery of PA over PEG-citrate systems, since higher enzyme recovery and increased purity was obtained. ATPS proved to be suitable to process\n",
      "highly concentrated disrupted extract (35%, w/w) and maintain a high top phase enzyme recovery. In the direct comparison of the processes, the\n",
      "superiority of the ATPS approach was highlighted since a reduction of the number of unit operations from 7 to 4 was achieved. An outline economic\n",
      "analysis based on the cost of separation agent of the processes favour the ATPS process, in which a gross cost reduction of 37% (from $0.47 to\n",
      "$0.30 USD) was achieved. Such result was obtained considering a potential re-use of up to 100 times of the resin used in the chromatography\n",
      "process. Additionally, by assuming that all the unit operations are equivalent in investment and operating cost, further reduction of approximately\n",
      "43% of the respectively involved cost can be obtained when the ATPS process is used. Overall, the proposed ATPS process comprising of PEG1450-\n",
      "phosphate, tie-line length (TLL) of 48.5% (w/w), volume ratio (Vr) of 1.0, pH of 7.0 and 35% (w/w) PA crude extract loaded into the system proved\n",
      "to be more efﬁcient, recovering 97% of PA at the top phase (PEG rich phase) with a purity factor of 3.5. It is clear that the results reported herein\n",
      "raise the consideration for the potential substitution of the chromatography process for PA recovery from E. coli as a ﬁrst step for the development\n",
      "of an optimised and economic process with evident commercial application.\n",
      "© 2006 Elsevier B.V. All rights reserved.\n"
     ]
    }
   ],
   "source": [
    "papers[0].get_section(abstract)\n",
    "print(papers[0].abstract)\n",
    "# papers[0].abstract\n",
    "# get_section(papers[0].text,abstract.start_pattern,abstract.end_pattern)\n",
    "# current_paper.get_section(abstract)\n",
    "# current_paper.abstract\n",
    "# current_paper.text\n",
    "# text = current_paper.text\n",
    "# start = abstract.start_pattern.search(text).start()\n",
    "# end = abstract.end_pattern.search(text[start:]).start()+start\n",
    "# section = text[start:end]\n",
    "# print(section)"
   ]
  },
  {
   "cell_type": "code",
   "execution_count": 252,
   "id": "d338c1af",
   "metadata": {},
   "outputs": [
    {
     "name": "stdout",
     "output_type": "stream",
     "text": [
      "Journal of Biotechnology 241 (2017) 184–192Contents lists available at ScienceDirectJournal of Biotechnologyj ourna l ho me pa ge: www.elsevier.com/locate/jbiotecA simple, rapid and cost-effective process for production of latexclearing protein to produce oligopolyisoprene moleculesR. Andler a, A.  Steinbüchel a,b,∗a Institute of Molecular Microbiology and Biotechnology, Westfälische Wilhelms-Universität Münster, D-48149 Münster, Germanyb Environmental Sciences Department, King Abdulaziz University, Jeddah, Saudi Arabiaa r  t i c  l e  i  n  f  oArticle history:Received 2 November 2016Received in revised form29 November 2016Accepted 6 December 2016Available online 7 December 2016Keywords:Latex clearing proteinAuto induction mediumAmmonium sulfate precipitationRubber biodegradationPoly(cis-1,4-isoprene)a b s t  r  a c  tAiming at ﬁnding feasible alternatives for rubber waste  disposal, the  partial  enzymatic degradation ofpoly(cis-1,4-isoprene)-containing materials represents a potential solution. The use of rubber-degradingenzymes and  the  biotransformation of  rubber into  new  materials is limited by  the high  costs associatedwith the production and  puriﬁcation of  the  enzyme and  the complexity of  the process. This  study presentsa simple  and  low-cost procedure to  obtain  puriﬁed  latex  clearing protein (Lcp),  an  enzyme  capable  ofcleaving the double  bonds  of  poly(cis-1,4-isoprene) in  presence of  oxygen to  produce different size ofoligomers with terminal aldehyde and  ketone  groups, respectively. The  gene coding for  Lcp1VH2 fromGordonia polyisoprenivorans strain  VH2  was overexpressed in  Escherichia coli  C41  (DE3),  and by using  anauto-induction medium high protein  yields  were  obtained. The  cultivation process  was described andcompared with an  IPTG-inducible medium previously used.  Puriﬁcation of  the  enzyme  was  performedusing salting  out precipitation with  ammonium sulfate.  Different salt  concentrations and  pH  were  testedin order  to ﬁnd  the  optimal  for  puriﬁcation, obtaining a concentration of  60  mg  Lcp  per l. The  enzymaticactivity of  the  puriﬁed  enzyme was  measured by  an  oxygen consumption assay  in  the presence of  polyiso-prene latex. Volumetric activities of 0.16 U  ml−1 were  obtained at optimal  conditions of  temperature andpH. The  results  showed an  active and  partial  puriﬁed fraction of Lcp1VH2, able  to  cleave  the  backbone ofpoly(cis-1,4-isoprene) and  to produce  degradation products that  were identiﬁed with  staining method-ologies (Schiff  reagent for  aldehyde groups  and  2,4-DNPH for carbonyl groups) and  characterized usingnuclear magnetic resonance (NMR).  Thirteen different storage conditions were  tested  for  the  puriﬁedenzyme analyzing the  enzymatic activity  after  1 and  3  months. Lcp1VH2, as  an  ammonium sulfate precip-itate, was stable, easy to  handle  and  sufﬁciently active for  further  analysis. The  described methodologyoffers the possibility to  upscale the  process and to produce large  amounts of  this  protein.© 2016  Elsevier B.V.  All  rights reserved.1. IntroductionThe increase of rubber-containing products in the last decadesis generating serious problems in waste disposal management.The physical and chemical methods developed so far involve theusage of toxic or harmful chemicals and/or high temperatures andmechanical forces that require huge amounts of energy and beingprejudicial for the environment and the human health (Maris, 2013;Timling, 2004; Bahman, 2000; Arastoopour et al., 1999; Butcher andKidwell, 1995; Werner, 1984). One way of overcoming the problemis possibly provided by the biotechnological transformation of rub-ber into useful products (Yikmis and Steinbüchel, 2012; Bode et al.,∗ Corresponding author at: Corrensstraße 3, D-48149 Münster, Germany.E-mail addresses: rodrigo.andler.o@gmail.com (R. Andler),steinbu@uni-muenster.de (A. Steinbüchel).2001; Linos et al., 2000; Tsuchii and Takeda, 1990). Several bacterialstrains have been described that are able to degrade rubber but usu-ally the required periods are rather long making such process noteconomically feasible. Therefore, enzymes could have an importantrole to catalyze the ﬁrst reaction of poly(cis-1,4-isoprene) cleav-age and to produce new oligomers with unknown properties andcharacteristics.The literature describes two proteins that are involved in theprimary attack of the poly(cis-1,4-isoprene) carbon backbone: Thelatex clearing protein (Lcp) (Rose and Steinbüchel, 2005) and therubber oxygenase A (RoxA) (Jendrossek and Reinhardt, 2003). Bothextracellular enzymes cleave poly(cis-1,4-isoprene) at the doublebonds by an oxidative reaction mechanism (Rose and Steinbüchel,2005). Whereas an exo-cleavage mechanism is postulated forRoxA, an endo-cleavage mechanism is described for Lcp (Birke andJendrossek, 2014). By using Lcp in the presence of poly(cis-1,4-http://dx.doi.org/10.1016/j.jbiotec.2016.12.0080168-1656/© 2016 Elsevier B.V. All rights reserved.R. Andler, A. Steinbüchel / Journal of Biotechnology 241 (2017) 184–192 185isoprene), it is possible to produce degradation products differingin the number of isoprene units (Ibrahim et al., 2006). A wide rangeof new oligomers with aldehyde and ketone groups at the terminalregions can be obtained (Hiessl et al., 2014; Ali Shah et al., 2013;Rose and Steinbüchel, 2005) making this reaction interesting tostudy.The currently available methods to produce and purify Lcpinvolve several steps and are economically non-viable for scale-up. Different methods have been described to purify Lcp and all ofthem include one or two chromatographic steps using expensivecolumns and large amounts of buffers (Birke et al., 2015; Hiesslet al., 2014). Some other time-demanding procedures as desaltingby diaﬁltration and concentration by ultraﬁltration are additionallyneeded and yield only low amounts of the protein (Watcharakulet al., 2016). The published production and puriﬁcation protocolsprovide highly puriﬁed Lcp without impurities but at high costs andlow concentrations. Such preparations are suitable for biochemicalcharacterizations of the enzyme but are not applicable for technicalconversion of rubber at large scale.In order to ﬁnd a convenient way to perform recombinant pro-tein production for T7-based E. coli expression systems, the autoinduction method was introduced (Studier, 2005). It is based on thefunction of lac operon regulatory elements in mixtures of glucose,lactose and glycerol under diauxic growth conditions (Blommelet al., 2007). The transition from an un-induced to an inducedstate under metabolic control of the expression host (withoutinducer addition) minimizes the required handling of cultures, andmuch higher cell densities are obtained than expression systemswhich are based on the addition of expensive isopropyl �-d-1-thiogalactopyranoside (IPTG). However, the relative amounts ofthe carbon sources and the physical parameters such as the extentof aeration are critical to the outcome of the expression (Studier,2005).In the past, complex protein mixtures were often fractionatedmainly by adsorption and precipitation methods (Deutscher, 1990).These methods are still used today as preliminary steps for initialfractionation or to concentrate protein solutions (Bhaskar et al.,2007; Gerze et al., 2005; Gupta et al., 2004). Precipitation of aprotein from a crude extract may be achieved by adding salts,organic solvents, or organic polymers, or by varying the pH ortemperature of the solution (Janson, 2012). Ammonium sulfateis most frequently used as precipitant for salting out of proteins.The antichaotropic ions from ammonium sulfate (SO42−, NH4+)are efﬁcient binders of water molecules, thereby increasing thehydrophobic effect in the solution and promoting protein aggrega-tion by facilitating the association of hydrophobic surfaces (Scopes,2013). Some advantages of using ammonium sulfate are that itshigh concentration prevents growth of bacteria and that it protectsmost proteins from denaturation (Deutscher, 1990).The present study focuses on the establishment of a methodable to produce large amounts of active Lcp from G. polyisoprenivo-rans strain VH2 (Lcp1VH2) using a simple and optimized systemwith low operational costs. Since the investigations with Lcp1VH2are more advanced, this enzyme was selected for this study. So farthere are no publications about the expression of the gene encodingLcp1VH2 in auto-induction medium (AIM), and also no puriﬁcationprocedures for this enzyme without time-consuming and expen-sive chromatographic methods were described.2. Materials and methods2.1. Bacterial strain and cultivation conditions for Lcp1VH2synthesisCells of E. coli C41 (DE3) were cultivated in a 2-l Biostat Bplus (Sartorius) bioreactor which were inoculated with 5% v/v ofa preculture. The cultivation was carried out at 30 ◦C, the aerationrate was 2 l min−1 (1 vvm) and the agitation speed 400 rpm. Dis-solved oxygen tension (DOT) in the bioreactor was monitored by anoptical oxygen sensor (Hamilton). The pH and DOT were measuredonline by acquiring the data with the software BioPAT MFCS/win.The pre-cultures were cultivated in lysogeny broth (LB) at 30 ◦Cfor 18 h and 150 rpm using 1000-ml bafﬂed shake ﬂasks in a hor-izontal rotatory shaker. The cells were washed twice with salinesolution, dissolved in sterile dH2O and used to inoculate the mainculture.The cultivation medium was an AIM, previously described byStudier (2005). The medium composition in g l−1 was the follow-ing: 7.52 Na2HPO4 × 2H2O, 3 KH2PO4, 20 tryptone, 5 yeast extract,5 NaCl, 0.5 glucose, 2 lactose, 7.56 glycerol. Sterilization of thebioreactor was achieved at 121 ◦C for 30 min containing tryptone,yeast extract and the salts. As soon as the medium temperaturewent down, ﬁlter-sterilized solutions of glucose, lactose and glyc-erol were added, as well as a ﬁlter-sterile solution of 100 �g/�lampicillin. For comparison of the expression the strain was also cul-tivated in LB with the addition of 0.4 mM IPTG at an optical density(OD600) of 0.4–0.5. After induction, the temperature of cultivationwas diminished from 30 ◦C to 20 ◦C (Hiessl et al., 2014).Samples to determine cell dry weight, carbon source depletion,protein pattern analysis and enzymatic activity were withdrawnat intervals of 3 h. Optical density at 600 nm and cell dry weight(CDW) were measured to determine cell growth.The cells were harvested by centrifugation at 7700 × g and 4 ◦Cfor 15 min. The supernatant was discarded and the cells were storedat −20 ◦C. The cell disruption was carried out using a French Pressafter resuspension of the cells in 0.2 M Tris-HCl buffer pH 7. Theobtained crude extract was centrifuged at 7700 × g and 4 ◦C for30 min, collecting the soluble fraction and stored it at 4 ◦C.2.2. DNA manipulations and nucleotide sequencingThe lcp-F (5′-AAAACATATGAACTCGATCCCGGGTGTGGG-3′) andthe lcp-R (5′-AAAAGGATCCTCAGTTGTAGTTCGGGTTGTTGAAGTAGG-3′) primers were designed based on the lcp gene sequenceof Gordonia polyisoprenivorans VH2. Oligonucleotides weresynthesized by Euroﬁns MWG Operon (Ebersberg, Germany).Ampliﬁcations were carried out by using Phusion high-ﬁdelityDNA polymerase (Thermo Fischer Scientiﬁc, Waltham, MA, USA).The puriﬁcation of the ampliﬁed DNA fragment was done usingthe peqGOLD gel extraction kit (Peqlab Biotechnologie GmbH,Erlangen, Germany). The DNA fragment was ligated into pJET 1.2Blunt cloning vector (Thermo Fischer Scientiﬁc, Waltham, MA,USA), according to the manufacturer’s protocol. The obtainedplasmid was transformed into chemically competent cells of E. coliMach1 T1 (Sambrook et al., 1989) and after cell growth in LB solidmedium, containing ampicillin, the plasmids were isolated byusing a peqGold plasmid minikit (Peqlab Biotechnologie, Erlangen,Germany). Restriction endonucleases NdeI and BamHI were usedto obtain the fragment corresponding to lcp1VH2, which waspuriﬁed and cloned into the expression vector pET23a(+) (Merck,Darmstadt, Germany). The resulting plasmid was transformed intochemically competent cells of E. coli Mach1 T1. The plasmid wasisolated from the cells, and the correctness of the DNA sequencewas veriﬁed by sequencing at Seqlab (Sequence LaboratoriesGöttingen, Göttingen, Germany).2.3. Instrumentation and analytical conditions for carbon sourceconsumptionThe consumption of the carbon sources glucose, lactose andglycerol was measured on reversed-phase high performance liquidchromatography (RP-HPLC). The supernatants were analyzed using186 R. Andler, A. Steinbüchel / Journal of Biotechnology 241 (2017) 184–192Cell concentration (g l-1)012345678LB-IPTGAIMpH5678LB-IPTGAIMTime (h)0 2 4 6 81012141618202224DOT (%)020406080100120LB-IPTGAIMABCFig. 1. Characterization of E. coli C41 (DE3) cultures for lcp1VH2 overexpression usingIPTG-inducible LB medium and AIM. The box inside the ﬁgures indicates the corre-sponding expression system in each case. The red dashed line indicates the time ofdepletion for glucose in cultures with AIM. A) Cell dry weight of E. coli C41 (DE3)containing pET23a::lcp1VH2. B) Online measuring of pH during cultivation C) Onlinemeasuring of DOT during cultivation. (For interpretation of the references to colourin this ﬁgure legend, the reader is referred to the web version of this article.)a Lachrom Elite HPLC system (VWR-Hitachi, Darmstadt, Germany)with an RI detector (type 2490; VWR, Darmstadt, Germany) anda Metacarb 67H column (300 × 6.5 mm; VWR-Varian, Darmstadt,Germany) at 75 ◦C. The ﬂow rate was set up at 0.5 ml/min for 20 minwith an injection volume of 100 �l, using a mobile phase consti-tuted of acetonitrile-water (90:10, v/v).2.4. Puriﬁcation of Lcp1VH2Puriﬁcation of Lcp1VH2 was performed by salting out precipita-tion using ammonium sulfate. Different (NH4)2SO4 concentrationswere tested in reaction tubes each containing 5 ml of the solu-ble fraction and 5 ml of a deﬁned salt concentration. The sampleswere mixed by inverting the tubes until reaching a homoge-neous mixture and centrifuged at 7700 × g and 4 ◦C for 30 min. Thesupernatants were discarded, and the precipitated proteins weredissolved in 0.2 M Tris-HCl buffer pH 7 and stored at 4◦ for furtheranalysis.To analyze whether the presence of ammonium sulfate in thepuriﬁed protein precipitate could interfere with the stability of theenzyme and/or the enzymatic activity, the salt was removed bydialysis using 5 ml test tubes dialyzers (ZelluTrans/Mini DialyzerMD 300) containing 200 �l of sample. The samples were incubatedfor 3 h, with changing the dialysate buffer after each 1 h.2.5. Oxygen consumption assayThe volumetric activity of Lcp1VH2 was measured with an oxy-gen consumption assay measuring the partial pressure of oxygen inthe gas phase. For this an oxygen membrane polarographic detec-tor (Rank Brother Oxygen Electrode, Digital Mode 20) was used.The samples, containing 20 �g of puriﬁed Lcp1VH2, 20 �l of 20%v/v polyisoprene latex (Neotex Latz; Weber & Schaer, Hamburg,Germany) with an average molecular weight Mn of the polyiso-prene of 400,000 g/mol and 0.2 M Bis-Tris buffer pH 7.0 ﬁlled upto 1 ml, were mixed in the incubation chamber. The assay wasperformed at 30 ◦C for 25 min.2.6. Synthesis and isolation of degradation products10 ml of puriﬁed Lcp1VH2 was incubated in a 100-ml glass ﬂaskcontaining 40 ml of 0.2 M Tris-HCl buffer pH 7.0 and 10 ml of 20%(v/v) of polyisoprene latex at room temperature with continuousstirring for 5 h. The degradation products were extracted by liquid-liquid extraction in a relation sample:solvent 1:2 (v/v) using ethylacetate. The mixtures were vigorously agitated for 1 min and cen-trifuged at 1520 x g and 4 ◦C for 10 min to promote the separationof the phases. The extract containing the degradation products wascollected and evaporated employing a rotatory evaporator (BüchiRotavapor 011). The samples were extracted three times in total.After the evaporation, the samples were dissolved in 1 ml of ethylacetate and were transferred into a 2-ml glass vial and completelydried under a stream of air for further analysis. As a negative con-trol, 10 ml of heat-inactivated Lcp1VH2 (98 ◦C for 15 min) was addedto a reaction ﬂask incubated at the same time and conditions asdescribed above.2.7. Carbonyl group detectionTwo different qualitative staining tests were performed toidentify aldehyde and ketone groups. Poly(cis-1,4-isoprene) degra-dation products were mixed with Schiff reagent to detect aldehydegroups, whereas for the detection of carbonyl groups, 2,4-dinitrophenylhidrazine (DNPH) was employed. Both reactionswere done at room temperature for 5 min.2.8. Nuclear magnetic resonance (NMR)The degradation products were dissolved in 1 ml  CDCl3 andanalyzed by proton nuclear magnetic resonance (1H NMR) andcarbon magnetic resonance (13C NMR) spectrometry. NMR was per-formed at room temperature using an Agilent DD2 spectrometer at600 MHz for 1H NMR and 150 MHz for 13C NMR.2.9. Lcp1VH2 storage analysisThirteen different storage conditions were tested after 1 and 3months, measuring the relative enzymatic activity with the oxygenconsumption assay described above. A volumetric activity of 100%(measured in �molO2 ml−1 min−1) was measured at the beginningof the assay using fresh Lcp1VH2 from the same batch as the storageR. Andler, A. Steinbüchel / Journal of Biotechnology 241 (2017) 184–192 187Fig. 2. SDS-PAGE of whole cell protein extracts during the time course of cultivation of E. coli C41 (DE3) at 30 ◦C in AIM for expression of lcp1VH2. Each lane contains 40 �g oftotal proteins and represents different time of cultivation as indicated in the ﬁgure. The arrow indicates the position of Lcp1VH2.samples. Glycerol was added as a stabilizing agent at concentra-tions of 0, 5, 25 and 50% (w/v) freezing them at −20 or −60 ◦C inultra low-temperature freezers (Platinum 340 V, Angelantoni). Ashock-freeze using liquid nitrogen was also applied at low (5% w/v)and high (50% w/v) glycerol concentration before freezing them at−60 ◦C. Two samples were lyophilized dissolving the enzyme intwo different buffers, trimethylamine/HCL pH 7 or Tris/HCl pH 7and storing them at 4 ◦C. One sample was stored as an ammoniumsulfate precipitate at 4 ◦C. Each sample contained 50 �g of Lcp1VH2.3. Results3.1. Production of Lcp1VH2 in 2-l bioreactorsSynthesis of Lcp1VH2 using E. coli C41 (DE3), was carried out in2-l bioreactors. The cells were cultivated in two different mediaand induction mechanisms. The ﬁrst cultivation was performed inLB medium, and the induction was done by the addition of IPTG,as described by Hiessl et al. (2014). The second cultivation wasperformed using the AIM, and the induction was based on the avail-ability and relation of speciﬁc carbon sources present in the growthmedium.Cell growth rate was estimated to be 0.45 h−1 in the AIM and theﬁnal cell concentration was 4-fold higher than in the IPTG-induciblemedium in which a growth rate of 0.27 h−1 was measured (Fig. 1a).During the time course of cultivation the carbon sources glucose,lactose and glycerol used with the AIM were measured, and as itwas expected, glucose was consumed at ﬁrst by the cells. After 3 hof cultivation the glucose concentration had decreased from 0.5 to0.12 g l−1 and after 6 h it was completely depleted. Without glucosepresent in the cultivation medium, lactose was then consumed bythe cells (represented by the dashed line in Fig. 1). At this pointthe overexpression of lcp1VH2 was induced by the known mech-anisms (Gombert and Kilikian, 1998; Neubauer et al., 1992). Thewhole cell protein pattern, as analyzed by sodium dodecyl sulfate-polyacrylamide gel electrophoresis (SDS-PAGE), showed a band ofenhanced intensity at ∼38 kDa corresponding to Lcp1VH2 (Fig. 2).No differences could be detected in the total protein pattern after12 h of cultivation. According to that the lactose concentration wasdecreasing, the uptake of glycerol was detected together with aslight increase in biomass concentration.A ﬁrst description of the metabolism of E. coli during Lcp1VH2synthesis in AIM was performed. The values of pH and pO2 weremeasured but not controlled. During cultivation in the IPTG-inducible medium an increase in the pH occurred during cellgrowth. The initial pH of 6.5 (t = 0 h) increased to a maximal value of8.2 (t = 12–14 h) and remained then stable until the end of the cul-tivation. On the other hand in cultures with AIM the pH decreasedduring the ﬁrst 12 h, corresponding to the phase of glucose and lac-tose consumption, followed by an increased from 6 to a stable valueof 7.4 until the end of the cultivation, corresponding mainly to theglycerol depletion phase.The dissolved oxygen tension (DOT) was also monitored onlineduring the time course of cultivation using both expression systems(Fig. 1c). When using the IPTG-inducible medium, the DOT reachedthe lowest value (62%) at t = 7 h, indicating a sufﬁcient oxygen sup-ply for the cells. For the culture with AIM, the oxygen uptake ratewas higher due to the higher cell density. At t = 6 h the DOT wasnearly 18% maintaining the condition for almost 5 h, followed byan increase to over 34% corresponding to the transition time for thecells for stopping consuming lactose and starting the consumptionof glycerol as a late carbon source. Finally the DOT decreased to22%; and after 21 h of cultivation the initial condition of 100% wasreached again.The pH and DOT proﬁles were related to the bacterial growthphases and to the cell metabolism according to the different carbonsources that were catabolized. In cultures using AIM the pH rangeduring cultivation (6–7.4) did not affect the cell growth and pHcontrol seem to be not necessary.3.2. Lcp1VH2 puriﬁcationAfter harvesting and cell disruption, the soluble fraction wasgently mixed with an ammonium sulfate solution to separate andpurify Lcp1VH2 according to its solubility. As it was expected, theconcentration of precipitated proteins, was increasing when thesalt concentration increased. The supernatants of the samples wereanalyzed by SDS-PAGE, and the pattern of the protein bands indi-cated that Lcp1VH2 precipitated already at a low salt concentration.In fact, after precipitation using 1.5 M of the salt, Lcp1VH2 was notdetectable in the supernatant anymore, indicating that the targetprotein was completely precipitated. Nevertheless unwanted pro-teins were precipitated as well.The volumetric activity of three different samples containing20 �g of total protein, precipitated at salt concentrations of 0.75 M,1 M and 1.25 M of (NH4)2SO4 as it was measured through the188 R. Andler, A. Steinbüchel / Journal of Biotechnology 241 (2017) 184–192Time (min)0 51015202530Oxygen concentration (µmol L-1)100120140160180200220240260Control 1Control 20.75 M1.25 M1 MSoluble fraction Fig. 3. Oxygen consumption in �mol liter−1 by three different precipitated enzymefractions. 20 �g of Lcp1VH2 were incubated for 25 min in the presence of 20 �l/ml of20% v/v polyisoprene latex. The ammonium sulfate concentrations are indicated atthe end of each curve. The soluble fraction (without protein precipitation by salt) isrepresented in long dash line. Control 1 was the fraction precipitated at 1 M after heatinactivation at 98 ◦C for 15 min and control 2 contained buffer, salt and substrate,but  no enzyme. All measurements were carried out at 30 ◦C and the same stirringspeed.oxygen consumption assay described in materials and methods.As shown in Fig. 3, the sample precipitated at 1 M of (NH4)2SO4presented the highest volumetric activity, reaching a value of0.12 U ml−1. The activities of the samples precipitated at 1.25 Mand at 0.75 M of salt were only 0.11 or 0.07 U ml−1, respectively.This suggests that Lcp1VH2 was partially precipitated at a con-centration of 0.75 M, and some of the enzyme remained in thesupernatant. Fig. 4 shows that a 35-kDa and a 37-kDa proteinwere also precipitated and at higher salt concentrations (e.g.1.25 M), proteins of larger size besides Lcp1VH2 precipitated aswell but the amount of Lcp1VH2 seems to increase. A matrix-assisted laser desorption/ionization-time-of-ﬂight-tandem massspectrometry (MALDI-TOF-MS/MS) analysis was performed at theInstitute for Microbiology of the Ernst-Moritz-Arndt-UniversityGreifswald in order to analyze the bands of interest. The 35-kDaband corresponded to a putative uncharacterized protein, while the37-kDa band corresponded to a chaperone protein from G. polyiso-prenivorans VH2. As a control, 20 �g of total protein of the sampleprecipitated at 1 M was heat-inactivated at 98 ◦C for 15 min (con-trol 1). A second control was composed of Tris-buffer, ammoniumsulfate and polyisoprene latex but no Lcp1VH2 (control 2). Bothcontrols did not show an oxygen depletion during the assay. After25 min of incubation it was possible to detect a clariﬁcation in thereaction solution changing from a milky white solution to a trans-parent solution in the samples containing active Lcp1VH2, due tothe cleavage of poly(cis-1,4-isoprene).An interesting result was observed when the supernatant (dashline) without protein fractionating was applied to the enzymaticactivity assay. Lcp1VH2 was active in the beginning of the reaction,consuming 30 �mol l−1 of oxygen during the ﬁrst 10 min. How-ever, the oxygen stopped being consumed and its concentrationincreased gradually. This result suggests that proteolytic enzymespresent in the supernatant could hydrolyze Lcp1VH2, affecting theoxygenase activity of Lcp1VH2 and that the ammonium sulfate pre-cipitation was therefore needed to avoid this effect.The partially puriﬁed enzyme sample with the highest volumet-ric activity was the one precipitated at 1 M of ammonium sulfate.However, the 35-kDa and 37-kDa proteins were also precipitated atthis salt concentration. Therefore, and to achieve a better degree ofpurity, a two-step salting out precipitation was performed. A ﬁrstprecipitation step using 0.5 M of (NH4)2SO4 was done, discardingcompletely or partially some of the unwanted proteins, followed bya second precipitation step in the corresponding supernatant using1 M of the salt. The resulting partially puriﬁed enzyme (showed inlane 4 of Fig. 4) was used for further analysis.To verify whether the presence of ammonium sulfate couldinterfere with the stability and/or the enzymatic activity of Lcp1VH2,the salt was removed by dialysis. The enzymatic activity of the par-tially puriﬁed enzyme sample obtained with the two-steps saltingout precipitation with ammonium sulfate was measured obtain-ing non signiﬁcant differences in the oxygen uptake for undialyzedand dialyzed samples reaching a volumetric activity of 0.15 U ml−1.Fig. 4. SDS-PAGE of partially-puriﬁed Lcp samples after precipitation with ammonium sulfate. SF: 40 �g of protein of the soluble fraction. Lane 1,2,3 contain 20 �g of proteinprecipitated after mixing the soluble fraction and ammonium sulfate at concentrations of 0.75 M, 1 M and 1.25 M respectively. Lane 4 represents 20 �g of protein comingfrom a 2-steps salting out precipitation (proteins precipitated using salt concentrations between 0.5 M and 1 M). The arrow indicates the position of Lcp1VH2.R. Andler, A. Steinbüchel / Journal of Biotechnology 241 (2017) 184–192 189pH3 4 5 6 7 8 910Activity (U ml-1)0.000.020.040.060.080.100.120.140.160.180.20Undial yzedDialyzed Undial yzed + 7 d  of  storageDialyzed + 7 d  of  storage  Fig. 5. Effect of pH on the volumetric activity of Lcp1VH2 using the 2-steps salting outprecipitation with ammonium sulfate for undialyzed and dialyzed samples. The pre-cipitation was performed at seven different pH values ranging from 4 to 9 and 200 �lof each puriﬁed sample was dialyzed. The enzymatic activity of the undialyzed anddialyzed samples was measured after a storage of 7 days at 4 ◦C.During the precipitation process the pH was adjusted to 7 con-sidering the optimum enzymatic activity of Lcp1VH2, as previoulsydescribed by Hiessl et al. (2014). However, to analyze whether achange in the pH during the precipitation process could affect theenzymatic activity of the ﬁnal puriﬁed fraction, seven different pHvalues between 4 and 9 were tested, using the two-steps salting outprecipitation as described above for undialyzed and dialyzed sam-ples. The results shown in Fig. 5 suggest an optimum pH around 6.5corresponding to a volumetric activity of 0.16 U ml−1, and it clearlydecreased at pH below 6 or above 7. No differences were possi-ble to detect for undialyzed and dialyzed samples treated at thesame pH during the puriﬁcation process. Nevertheless, the enzy-matic activity was measured in undialyzed and dialized samplesafter seven days of storage at 4 ◦C, showing a signiﬁcant decreasein the volumetric activity for dialyzed samples. The low oxygendepletion capability for dialyzed samples conﬁrm the stabilyzingeffect of ammonium sullfate (Dixon and Webb, 1962).To estimate the ﬁnal concentration of Lcp1VH2, the freely avail-able image processing and analysis ImageJ software was applied.The amount of protein was calculated according to a calibrationcurve corresponding to known concentrations of bovine serumalbumin (BSA). A ﬁnal Lcp1VH2 concentration of 60 mg l−1 was cal-culated.For further analysis of the puriﬁed Lcp1VH2 from the same batchof production, the protein was stored under different conditions(described in Fig. 6) for 1 and 3 months. In order to conﬁrm thatthe physicochemical properties of the protein were not altered ordamaged during storage because of protein aggregation or chem-ical degradation, the volumetric activities of the stored partiallypuriﬁed enzyme were measured and compared to the volumetricactivity measured at day 0 (control), which was assigned to 100%(0.16 U ml−1).As described in Fig. 6, ammonium sulfate precipitated Lcp1VH2showed the highest volumetric activity after 1 month of storagereaching a value of 0.155 U ml−1, and 0.142 U ml−1 after 3 months,being only about 3 — 11% lower than the control. Glycerol as stabi-lizing agent was more effective at −60 ◦C than at −20 ◦C, showingin general a direct relation between the glycerol concentration andthe enzymatic activity, except for the fraction stored at −20 ◦C inpresence of 50% glycerol. The shock-freeze did not enhance theenzymatic activity when compared to samples without pretreat-ment. Both lyophilized fractions showed a signiﬁcant decrease inthe enzymatic activity for longer periods.3.3. Cleavage of poly(cis-1,4-isoprene)A qualitative staining assay was performed with the alreadyextracted samples in order to detect the presence of carbonylgroups (aldehyde and ketone). The sample containing the degra-dation products incubated with Schiff reagent was stained givinga pink color after 5 min of incubation at room temperature. Byemploying 2,4-DNPH, the sample showed a cloudy appearance dueto the resulting dinitrophenylhydrazone obtained after a condensa-tion reaction between the reagent and the carbonyl groups (Levineet al., 1990). After 24 h of incubation it was possible to detect ahigher intensity in the color for the Schiff reagent assay and aprecipitation which was accumulated at the bottom of the reac-tion tube for the 2,4-DNPH assay (Fig. 7). Both staining methodsconﬁrmed the presence of carbonyl groups whereas the negativecontrols did not present any reaction.The characterization of the degradation products by 1H NMRshowed a small signal at 9.76 ppm (triplet) corresponding to thealdehyde proton attached to a methylene group and the signal at2.11 ppm (singlet) is due to the protons of the methyl ketone. Peaksgenerated at 2.48 ppm, 2.34 ppm, 2.42 ppm and 2.25 ppm representthe protons at methylene (-CH2-) next to the aldehyde end groupand to the ketonic end group (represented by numbers 7, 8, 10 and9 in Fig. 8). The spectra exhibit three signals at 5.11 ppm, 2.11 ppmand 1.67 ppm, which are due to oleﬁnic proton (3), methylene pro-ton (4,5) and methyl proton (1), respectively, and belongs to thestructure of poly(cis-1,4-isoprene).The 13C NMR spectra presented ﬁve strong peaks at 23.4 ppm,26.4 ppm, 32.2 ppm, 125 ppm and 135.2 ppm in samples with activeLcp1VH2 and also in samples from the negative control correspond-ing to the repeated structure of the polymer backbone. However,the signals at 42.3 ppm and 44 ppm conﬁrm the oligomer structurecorresponding to the carbons next to the aldehyde end group andto the ketonic end group respectively, located at positions 7 and 10of Fig. 8.The 1H NMR and 13C NMR identiﬁed the chemical structures ofthe oligomers and conﬁrmed previous reports about poly(cis-1,4-isoprene) structure and also about degradation products structureusing bacterial cultures as well as enzyme assays (Hiessl et al., 2014;Tsuchii and Takeda, 1990; Tsuchii et al., 1985; Sato and Tanaka,1979). Nevertheless, the peaks corresponding to the terminal alde-hyde and ketone groups appeared at signiﬁcant minor intensitiesthan the signals from the isoprene repetitive structure. This mightsuggest that the length of the degradation products is varying andthat many of the detected structures have a long chain of isoprenerepetitive units. The presence of the right structure for the degrada-tion products was conﬁrmed by 2D-NMR (gCOSY, gHSQC, gHMBC)analysis.4. DiscussionDue to the low solubility of Lcp1VH2 in aqueous solutions, largeamounts of the protein were discarded together with the cellsdebris after cell disruption and centrifugation, getting a solublefraction with low Lcp1VH2 concentration. Therefore, it was nec-essary to establish a simple and effective method to purify largeamounts of the enzyme at low costs. At ﬁrst a salting out pre-cipitation process using ammonium sulfate in combination withpH adjustment was developed for Lcp1VH2 production in a simple,cheap and rapid synthesis and puriﬁcation method, resulting in anactive and stable enzyme for partial degradation of rubber particles.To overcome the poor solubility of Lcp further studies are nec-essary. According to the “European Molecular Biology Laboratory”(EMBL) the composition of the lysis buffer is essential for the solu-bility of target proteins to be puriﬁed. Therefore, different solubility190 R. Andler, A. Steinbüchel / Journal of Biotechnology 241 (2017) 184–192Control0% Glycerol at -20 °C   5% Glycerol at -20 °C  25% Glycerol at -20 °C50% Glycerol at -20 °C0% Glycerol at -60 °C5% Glycerol at -60 °C25% Glycerol at -60 °C50% Glycerol at -60 °C5% Glycerol + Shock-freeze 50% Glycerol + Shock-freeze Lyophilization Tris-bufferLyophilization TMA buffer(NH4)2SO4 precipitateRelative activity (%)01020304050607080901001 month3 mon thsFig. 6. Stability analysis of Lcp1VH2 during 1 (grey bar) and 3 months (black bar) storage. The measurements show the volumetric activity of each sample in a relativepercentage compared with the initial condition (Control). All samples belong to the same batch of production. The storage conditions are described in the ﬁgure.Fig. 7. Identiﬁcation of degradation products using staining solutions at different incubation times. Aldehyde groups were identiﬁed using Schiff reagent. Samples 2 (5 minof incubation) and 3 (24 h of incubation) contained extracted oligomers, dissolved in 1 ml of 10% v/v Schiff reagent; sample 1 was a negative control. Carbonyl groups wereidentiﬁed using 2,4-DNPH. Samples 5 (5 min of incubation) and 6 (24 h of incubation) contained extracted oligomers, dissolved in 1 ml  of 10% v/v 2,4-DNPH; sample 4 was anegative control. Negative controls were performed using heat-inactivated Lcp1VH2.screening tests could be performed like different pH conditions,the presence of salts e.g. NaCl, KCl or EDTA, the addition of ureaand the presence of glycerol as stabilizer. However, the addition ofdetergents seems to be a potential solution for poorly soluble pro-teins. Deoxycholate, Tween-20 and Triton X-100 at concentrationsbetween 0.1–1% are recommended. Another alternative wouldbe the extraction of insoluble (inclusion-body) proteins. Palmerand Wingﬁeld (2004), developed a method to recover recombi-nant proteins from aggregates that were formed during high levelexpression of proteins, commonly referred to as inclusion bodies.A ﬁrst washing step (preextraction) is done using urea and TritonX-100 to remove E. coli membrane particles and cell wall mate-rial followed by an extraction by guanidine·HCl and dithiothreitol(DTT). As a result a soluble and unfolded protein is obtained whichrequires further steps to be active.Autoinduction depends mainly on how bacteria regulate the car-bon and energy sources present in the medium. It is known thatas long as glucose is being used as the carbon source for energyand growth, lactose will not be imported and autoinduction can-not occur. As soon as glucose is depleted, lactose is taken up bylactose permease and converted to allolactose, the inducer of the lacoperon (Studier, 2014). Glucose supported cell growth to moderatehigh density, however, too much glucose could prevent inductionby lactose. Therefore, a critical point for autoinduction appeared toinclude glucose at a concentration that is not depleted until theculture had grown to moderate density (early stage of growth),followed by the induction by lactose consumption. The applied cul-tivation conditions and the mixture of 0.05% w/v glucose, 0.2% w/vlactose and 0.5% v/v glycerol were successful for Lcp1VH2 produc-tion. Nevertheless, further analysis would be necessary to improveR. Andler, A. Steinbüchel / Journal of Biotechnology 241 (2017) 184–192 191ABFig. 8. 1H NMR at 600 MHz (A) and 13C NMR at 150 MHz (B) spectrum of degradation products. The structure of the isoprene repetitive unit and the functional groupsaldehyde and ketone are represented in the ﬁgure. Ethyl acetate, coming from the extraction step was also detected.the overexpression of lcp1VH2 by analyzing the glucose/lactose rela-tion present in the medium and how the oxygen transfer in thecultures could affect the synthesis of Lcp1VH2.It is known that the solubility of proteins is affected by ionsand that at high ionic strength the solubilities of proteins decrease(Ries-Kautt and Ducruix, 1989). Lcp1VH2 was precipitated at con-centrations of ammonium sulfate below 1.25 M, indicating that itcorresponds to a protein that easily precipitates from those thatare very soluble, making the salting out precipitation a good initialpuriﬁcation step. Nevertheless, no further puriﬁcation procedureswere necessary to obtain Lcp1VH2 with a focus on large scale andthe 2-steps salting out precipitation provided an active and stableenzyme. According to the analysis of different storage conditions,Lcp1VH2 does not loose enzymatic activity after several months bykeeping the enzyme at 4 ◦C as an ammonium sulfate precipitate.Other possible alternatives are the enzyme-glycerol (50%) solu-tion frozen at −60 ◦C and the enzyme-Tris buffer solution storedin a lyophilized pellet at 4 ◦C, nevertheless both methods requiredhigh energy consumption and external equipment. Lcp1VH2 couldbe described as a stable and robust enzyme with several alterna-tives to be stored making it suitable for large scale production withfocus on industrial processes.Hiessl et al. (2014) obtained pure Lcp1VH2 with a ﬁnal concen-tration of 2 mg  l−1 by using LB medium with IPTG induction anda puriﬁcation method based on immobilized metal afﬁnity chro-matography and subsequent size exclusion chromatography. Incomparison, by using the same cultivation medium and inductionsystem but by changing the puriﬁcation method to the salting out192 R. Andler, A. Steinbüchel / Journal of Biotechnology 241 (2017) 184–192precipitation with ammonium sulfate, the ﬁnal Lcp1VH2 concentra-tion increased 10 times. Moreover, by using the AIM and the saltingout precipitation for puriﬁcation, a ﬁnal enzyme concentration of60 mg l−1 was reached. The ImageJ software estimated a degree of55% purity for Lcp1VH2 in the analyzed gel corresponding to lane4 in Fig. 4. The 37-kDa chaperone protein represented 28% of thetotal protein and as indicated by the enzymatic activity and thelatex degradation assays, it was not interfering with the enzymaticactivity of Lcp1VH2 during the cleavage of poly(cis-1,4-isoprene).According to a rough estimation about the overall expensesinvolved in the production (expression and puriﬁcation) of Lcp1VH2(cultivation and puriﬁcation), the costs are 100-fold higher by usinga LB-IPTG/His-tagged system, in comparison with the AIM/saltingout precipitation system to produce a deﬁned amount of theenzyme. The calculation considered the reagents, buffers, salts andmaterials during the whole process.The high protein concentration after heterologous expressionof lcp1VH2 in E. coli C41 (DE3) using the AIM make the processmuch more effective because it does not only yield higher cellconcentrations, but also avoids IPTG addition. Thereby, the ammo-nium sulfate precipitation reduced signiﬁcantly the puriﬁcationcosts. Until now Lcp1VH2 production has been developed at a smallscale for biochemical characterization without industrial applica-tion approaches, due to the high costs involved. The proposedLcp1VH2 production system allows now a scale up of the processin order to increase production, to improve yields and to decreasethe associated costs.5. ConclusionsThis work presented an effective and rapid method and strat-egy to produce large amounts of Lcp1VH2 for technical applicationsby the overexpression of lcp1VH2 in E. coli C41 (DE3) using anAIM to purify the enzyme based on a two steps salting out pre-cipitation with ammonium sulfate. The ﬁnal partially puriﬁedenzyme was stable and active, allowing the cleavage reaction ofpoly(cis-1,4-isoprene) to produce degradation products contain-ing aldehyde and ketone as terminal groups. The biotransformationof poly(cis-1,4-isoprene) into new molecules is one of the poten-tial biotechnological alternatives to treat rubber-containing wastematerials.AcknowledgementsWe thank Dr. Klaus Bergander (Institute of Organic Chem-istry, WWU Münster) for performing NMR analysis. We  also thankDr. Birgit Voigt (Institut für Mikrobiology, Ernst-Moritz-Arndt-Universität Greifswald) for assistance with MALDI-TOF-MS/MSanalysis.ReferencesAli Shah, A., Hasan, F., Shah, Z., Kanwal, N., Zeb, S., 2013. Biodegradation of naturaland  synthetic rubber: a review. Int. Biodeterior. Biodegrad. 83, 145–157.Arastoopour, H., Schocke, D.A., Bernstein, B., Bilgili, E., 1999. Process for recyclingof rubber materials. US Patent 5904885A.Bahman, M.D., 2000. Method for the recycling of rubber. EP Patent 1038909 A1.Bhaskar, N., Sudeepa, E.S., Rashmi, H.N., Tamil Selvi, A., 2007. Partial puriﬁcationand characterization of protease of Bacillus proteolyticus CFR3001 isolated fromﬁsh processing waste and its antibacterial activities. Bioresour. Technol. 98,2758–2764.Birke, J., Jendrossek, D., 2014. Rubber oxygenase and latex clearing protein cleaverubber to different products and use different cleavage mechanisms. Appl.Environ. Microbiol. 80, 5012–5020.Birke, J., Röther, W., Jendrossek, D., 2015. Latex clearing protein (Lcp) ofStreptomyces sp. strain K30 is a b-type cytochrome and differs from rubberoxygenase A (RoxA) in its biophysical properties. Appl. Environ. Microbiol. 81,3793–3799.Blommel, P.G., Becker, K.J., Duvnjak, P., Fox, B.G., 2007. Enhanced bacterial proteinexpression during auto-induction obtained by alteration of lac repressordosage and medium composition. Biotechnol. Progr. 23, 585–598.Bode, H.B., Kerkhoff, K., Jendrossek, D., 2001. Bacterial degradation of natural andsynthetic rubber. Biomacromolecules 2, 295–303.Butcher, J.A., Kidwell, H., 1995. Method for depolymerization of rubber. US Patent5438078 A.Deutscher, M.P., 1990. Guide to protein puriﬁcation. Methods Enzymol. 182,285–295.Dixon, M., Webb, E.C., 1962. Enzyme fractionation by salting-out: a theoreticalnote. Adv. Protein Chem. 16, 197–219.Gerze, A., Omay, D., Guvenilir, Y., 2005. Partial puriﬁcation and characterization ofprotease enzyme from Bacillus subtilis megatherium. Appl. Biochem.Biotechnol. 121, 335–345.Gombert, A.K., Kilikian, B.V., 1998. Recombinant gene expression in Escherichia colicultivation using lactose as inducer. J. Biotechnol. 60, 47–54.Gupta, R., Gupta, N., Rathi, P., 2004. Bacterial lipases: an overview of production,puriﬁcation and biochemical properties. Appl. Microbiol. Biotechnol. 64,763–781.Hiessl, S., Böse, D., Oetermann, S., Eggers, J., Pietruszka, J., Steinbüchel, A., 2014.Latex clearing protein – an oxygenase cleaving poly(cis-1,4-isoprene) rubber atthe cis double bonds. Appl. Environ. Microbiol. 80, 5231–5240.Ibrahim, E.M.A., Arenskötter, M., Luftmann, H., Steinbüchel, A., 2006. Identiﬁcationof poly(cis-1,4-isoprene) degradation intermediates during growth ofmoderately thermophilic actinomycetes on rubber and cloning of a functionallcp homologue from Nocardia farcinica strain E1. Appl. Environ. Microbiol. 72,3375–3382.Janson, J.-C., 2012. Protein Puriﬁcation: Principles, High Resolution Methods, andApplications, third edition. Wiley, pp. 8–10.Jendrossek, D., Reinhardt, S., 2003. Sequence analysis of a gene productsynthesized by Xanthomonas sp. during growth on natural rubber latex. FEMSMicrobiol. Lett. 224, 61–65.Levine, R.L., Garland, D., Oliver, C.N., Amici, A., Climent, I., Lenz, A.-G., Ahn, B.-W.,Shaltiel, S., Stadtman, E.R., 1990. Determination of carbonyl content inoxidatively modiﬁed proteins. Methods Enzymol. 186, 464–478.Linos, A., Berekaa, M.M., Reichelt, R., Keller, U., Schmitt, J., Flemming, H.-C.,Kroppenstedt, R.M., Steinbüchel, A., 2000. Biodegradation ofcis-1,4-polyisoprene rubbers by distinct actinomycetes: microbial strategiesand detailed surface analysis. Appl. Environ. Microbiol. 66, 1639–1645.Maris, G., 2013. Process for recycling and de-vulcanizing rubber. EP Patent2601249 A1.Neubauer, P., Hofmann, K., Holst, O., Mattiasson, B., Kruschke, P., 1992. Maximizingthe expression of a recombinant gene in Escherichia coli by manipulation ofinduction time using lactose as inducer. Appl. Microbiol. Biotechnol. 36,739–744.Palmer, I., Wingﬁeld, P.T., 2004. Preparation and extraction of insoluble(inclusion-body) proteins from Escherichia coli. Curr. Protoc. Protein Sci.,Chapter: Unit-6.3.Ries-Kautt, M.M., Ducruix, A.F., 1989. Relative effectiveness of various ions on thesolubility and crystal growth of lysozyme. J. Biol. Chem. 264, 745–748.Rose, K., Steinbüchel, A., 2005. Biodegradation of natural rubber and relatedcompounds: recent insights into a hardly understood catabolic capability ofmicroorganisms. Appl. Environ. Microbiol. 71, 2803–2812.Sambrook, J., Fritsch, E.F., Maniatis, T., 1989. Molecular Cloning: a LaboratoryManual, second ed. Cold Spring Harbor Laboratory Press, N.Y.Sato, H., Tanaka, Y., 1979. 1H NMR study of polyisoprenes. Polym. Chem. 17,3551–3558.Scopes, R.K., 2013. Protein Puriﬁcation: Principles and Practice, third ed. Springer,pp. 72–85.Studier, F.W., 2005. Protein production by auto-induction in high-density shakingcultures. Protein Expr. Purif. 41, 207–234.Studier, F.W., 2014. Stable expression clones and auto-induction for proteinproduction in E. coli. Methods Mol. Biol. 1091, 17–32.Timling, K., 2004. Method for recycling of rubber and use of the treated rubber. WOPatent 2004072162 A1.Tsuchii, A., Takeda, K., 1990. Rubber-degrading enzyme from a bacterial culture.Appl. Environ. Microbiol. 56, 269–274.Tsuchii, A., Suzuki, T., Takeda, K., 1985. Microbial degradation of natural rubbervulcanizates. Appl. Environ. Microbiol. 50, 965–970.Watcharakul, S., Röther, W., Birke, J., Umsakul, K., Hodgson, B., Jendrossek, D., 2016.Biochemical and spectroscopic characterization of puriﬁed Latex ClearingProtein (Lcp) from newly isolated rubber degrading Rhodococcus rhodochrousstrain RPK1 reveals novel properties of Lcp. BMC Microbiol. 16, 92.Werner, M., 1984. Process for recycling used rubber, in particular tyre rubber. DEPatent No. 3313470 A1.Yikmis, M., Steinbüchel, A., 2012. Historical and recent achievements in the ﬁeld ofmicrobial degradation of natural and synthetic rubber. Appl. Environ.Microbiol. 78, 4543–4551.\n"
     ]
    }
   ],
   "source": [
    "text = get_pdf_text(directory+current_paper)\n",
    "text = remove_newlines(text)\n",
    "# text = remove_after(text,references_start)\n",
    "# abstract = get_section(text,abstract_start,abstract_end)\n",
    "# introduction = get_section(text,intro_start,intro_end)\n",
    "# results = get_section(text,results_start,results_end)\n",
    "# methods = get_section(text,methods_start,methods_end)\n",
    "print(text)"
   ]
  },
  {
   "cell_type": "code",
   "execution_count": 256,
   "id": "3af0f29e",
   "metadata": {},
   "outputs": [
    {
     "ename": "TypeError",
     "evalue": "first argument must be string or compiled pattern",
     "output_type": "error",
     "traceback": [
      "\u001b[0;31m---------------------------------------------------------------------------\u001b[0m",
      "\u001b[0;31mTypeError\u001b[0m                                 Traceback (most recent call last)",
      "\u001b[0;32m/tmp/ipykernel_16029/855534517.py\u001b[0m in \u001b[0;36m<module>\u001b[0;34m\u001b[0m\n\u001b[0;32m----> 1\u001b[0;31m \u001b[0mre\u001b[0m\u001b[0;34m.\u001b[0m\u001b[0mcompile\u001b[0m\u001b[0;34m(\u001b[0m\u001b[0;32mNone\u001b[0m\u001b[0;34m)\u001b[0m\u001b[0;34m\u001b[0m\u001b[0;34m\u001b[0m\u001b[0m\n\u001b[0m",
      "\u001b[0;32m~/anaconda3/envs/PDFScrape/lib/python3.8/re.py\u001b[0m in \u001b[0;36mcompile\u001b[0;34m(pattern, flags)\u001b[0m\n\u001b[1;32m    250\u001b[0m \u001b[0;32mdef\u001b[0m \u001b[0mcompile\u001b[0m\u001b[0;34m(\u001b[0m\u001b[0mpattern\u001b[0m\u001b[0;34m,\u001b[0m \u001b[0mflags\u001b[0m\u001b[0;34m=\u001b[0m\u001b[0;36m0\u001b[0m\u001b[0;34m)\u001b[0m\u001b[0;34m:\u001b[0m\u001b[0;34m\u001b[0m\u001b[0;34m\u001b[0m\u001b[0m\n\u001b[1;32m    251\u001b[0m     \u001b[0;34m\"Compile a regular expression pattern, returning a Pattern object.\"\u001b[0m\u001b[0;34m\u001b[0m\u001b[0;34m\u001b[0m\u001b[0m\n\u001b[0;32m--> 252\u001b[0;31m     \u001b[0;32mreturn\u001b[0m \u001b[0m_compile\u001b[0m\u001b[0;34m(\u001b[0m\u001b[0mpattern\u001b[0m\u001b[0;34m,\u001b[0m \u001b[0mflags\u001b[0m\u001b[0;34m)\u001b[0m\u001b[0;34m\u001b[0m\u001b[0;34m\u001b[0m\u001b[0m\n\u001b[0m\u001b[1;32m    253\u001b[0m \u001b[0;34m\u001b[0m\u001b[0m\n\u001b[1;32m    254\u001b[0m \u001b[0;32mdef\u001b[0m \u001b[0mpurge\u001b[0m\u001b[0;34m(\u001b[0m\u001b[0;34m)\u001b[0m\u001b[0;34m:\u001b[0m\u001b[0;34m\u001b[0m\u001b[0;34m\u001b[0m\u001b[0m\n",
      "\u001b[0;32m~/anaconda3/envs/PDFScrape/lib/python3.8/re.py\u001b[0m in \u001b[0;36m_compile\u001b[0;34m(pattern, flags)\u001b[0m\n\u001b[1;32m    301\u001b[0m         \u001b[0;32mreturn\u001b[0m \u001b[0mpattern\u001b[0m\u001b[0;34m\u001b[0m\u001b[0;34m\u001b[0m\u001b[0m\n\u001b[1;32m    302\u001b[0m     \u001b[0;32mif\u001b[0m \u001b[0;32mnot\u001b[0m \u001b[0msre_compile\u001b[0m\u001b[0;34m.\u001b[0m\u001b[0misstring\u001b[0m\u001b[0;34m(\u001b[0m\u001b[0mpattern\u001b[0m\u001b[0;34m)\u001b[0m\u001b[0;34m:\u001b[0m\u001b[0;34m\u001b[0m\u001b[0;34m\u001b[0m\u001b[0m\n\u001b[0;32m--> 303\u001b[0;31m         \u001b[0;32mraise\u001b[0m \u001b[0mTypeError\u001b[0m\u001b[0;34m(\u001b[0m\u001b[0;34m\"first argument must be string or compiled pattern\"\u001b[0m\u001b[0;34m)\u001b[0m\u001b[0;34m\u001b[0m\u001b[0;34m\u001b[0m\u001b[0m\n\u001b[0m\u001b[1;32m    304\u001b[0m     \u001b[0mp\u001b[0m \u001b[0;34m=\u001b[0m \u001b[0msre_compile\u001b[0m\u001b[0;34m.\u001b[0m\u001b[0mcompile\u001b[0m\u001b[0;34m(\u001b[0m\u001b[0mpattern\u001b[0m\u001b[0;34m,\u001b[0m \u001b[0mflags\u001b[0m\u001b[0;34m)\u001b[0m\u001b[0;34m\u001b[0m\u001b[0;34m\u001b[0m\u001b[0m\n\u001b[1;32m    305\u001b[0m     \u001b[0;32mif\u001b[0m \u001b[0;32mnot\u001b[0m \u001b[0;34m(\u001b[0m\u001b[0mflags\u001b[0m \u001b[0;34m&\u001b[0m \u001b[0mDEBUG\u001b[0m\u001b[0;34m)\u001b[0m\u001b[0;34m:\u001b[0m\u001b[0;34m\u001b[0m\u001b[0;34m\u001b[0m\u001b[0m\n",
      "\u001b[0;31mTypeError\u001b[0m: first argument must be string or compiled pattern"
     ]
    }
   ],
   "source": [
    "# re.compile(None)"
   ]
  },
  {
   "cell_type": "code",
   "execution_count": 265,
   "id": "5586c13a",
   "metadata": {},
   "outputs": [
    {
     "data": {
      "text/plain": [
       "'val'"
      ]
     },
     "execution_count": 265,
     "metadata": {},
     "output_type": "execute_result"
    }
   ],
   "source": [
    "class foo(object):\n",
    "    def __init__(self):\n",
    "        pass\n",
    "    \n",
    "    def add_attr(self,attr,val):\n",
    "        setattr(self,attr,val)\n",
    "    \n",
    "x = foo()\n",
    "# setattr(x,'attr','val')\n",
    "# x.attr\n",
    "x.add_attr('attr','val')\n",
    "x.attr"
   ]
  }
 ],
 "metadata": {
  "kernelspec": {
   "display_name": "ipykernel PDFScrape",
   "language": "python",
   "name": "pdfscrape"
  },
  "language_info": {
   "codemirror_mode": {
    "name": "ipython",
    "version": 3
   },
   "file_extension": ".py",
   "mimetype": "text/x-python",
   "name": "python",
   "nbconvert_exporter": "python",
   "pygments_lexer": "ipython3",
   "version": "3.8.12"
  }
 },
 "nbformat": 4,
 "nbformat_minor": 5
}
